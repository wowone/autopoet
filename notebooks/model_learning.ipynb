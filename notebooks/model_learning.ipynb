{
 "cells": [
  {
   "cell_type": "code",
   "execution_count": 1,
   "metadata": {},
   "outputs": [
    {
     "name": "stderr",
     "output_type": "stream",
     "text": [
      "Using TensorFlow backend.\n"
     ]
    }
   ],
   "source": [
    "import numpy as np\n",
    "import sys\n",
    "from pickle import dump\n",
    "\n",
    "sys.path.append('../model')\n",
    "from model import Model, clean_text\n",
    "from tokenizer import MyTokenizer"
   ]
  },
  {
   "cell_type": "code",
   "execution_count": 2,
   "metadata": {},
   "outputs": [],
   "source": [
    "%load_ext autoreload\n",
    "%autoreload 2"
   ]
  },
  {
   "cell_type": "code",
   "execution_count": 3,
   "metadata": {},
   "outputs": [],
   "source": [
    "path_to_text = \"../../yadisk/pushkin.txt\"\n",
    "\n",
    "with open(path_to_text, encoding='utf-8') as f:\n",
    "    text = f.read()\n",
    "text = clean_text(text)"
   ]
  },
  {
   "cell_type": "code",
   "execution_count": 4,
   "metadata": {},
   "outputs": [],
   "source": [
    "tokenizer = MyTokenizer(text)\n",
    "tokenizer.fit(text)\n",
    "digitized_text = tokenizer.text_to_ids(text)"
   ]
  },
  {
   "cell_type": "code",
   "execution_count": 5,
   "metadata": {},
   "outputs": [],
   "source": [
    "seq_size = 32\n",
    "batch_size = 50\n",
    "\n",
    "model = Model(seq_size, batch_size, tokenizer)\n",
    "sequences, next_words = model.split_to_sequences(digitized_text)"
   ]
  },
  {
   "cell_type": "code",
   "execution_count": 6,
   "metadata": {},
   "outputs": [],
   "source": [
    "sequences = np.array(sequences)\n",
    "next_words = np.array(next_words)\n",
    "X_train, y_train, X_test, y_test = model.shuffle_and_split_training_set(sequences, next_words)"
   ]
  },
  {
   "cell_type": "code",
   "execution_count": 7,
   "metadata": {
    "scrolled": false
   },
   "outputs": [
    {
     "name": "stdout",
     "output_type": "stream",
     "text": [
      "Model: \"sequential_1\"\n",
      "_________________________________________________________________\n",
      "Layer (type)                 Output Shape              Param #   \n",
      "=================================================================\n",
      "embedding_1 (Embedding)      (None, 32, 50)            1222600   \n",
      "_________________________________________________________________\n",
      "lstm_1 (LSTM)                (None, 32, 100)           60400     \n",
      "_________________________________________________________________\n",
      "lstm_2 (LSTM)                (None, 100)               80400     \n",
      "_________________________________________________________________\n",
      "dense_1 (Dense)              (None, 100)               10100     \n",
      "_________________________________________________________________\n",
      "dense_2 (Dense)              (None, 24452)             2469652   \n",
      "=================================================================\n",
      "Total params: 3,843,152\n",
      "Trainable params: 3,843,152\n",
      "Non-trainable params: 0\n",
      "_________________________________________________________________\n",
      "None\n"
     ]
    },
    {
     "name": "stderr",
     "output_type": "stream",
     "text": [
      "/home/wowone/autopoet_venv/lib/python3.6/site-packages/tensorflow_core/python/framework/indexed_slices.py:433: UserWarning: Converting sparse IndexedSlices to a dense Tensor of unknown shape. This may consume a large amount of memory.\n",
      "  \"Converting sparse IndexedSlices to a dense Tensor of unknown shape. \"\n"
     ]
    },
    {
     "name": "stdout",
     "output_type": "stream",
     "text": [
      "Epoch 1/1\n",
      "1941/1941 [==============================] - 100s 52ms/step - loss: 8.6280 - accuracy: 0.0439 - val_loss: 8.5845 - val_accuracy: 0.0445\n",
      "царь могущих тоскару юному вещал гряди во мрак лесов дремучих где крона катит черный вал шумящей прохлажден осиной там ряд является могил там с верной храброю дружиной полки врагов я расточил и\n",
      "\n",
      "On seed: царь могущих тоскару юному вещал гряди во мрак лесов дремучих где крона катит черный вал шумящей прохлажден осиной там ряд является могил там с верной храброю дружиной полки врагов я расточил и\n",
      " Generated: и и и и и и и и и и\n",
      "\n"
     ]
    }
   ],
   "source": [
    "model.build_model()\n",
    "model.compile_model()\n",
    "model.fit_model(X_train, y_train, X_test, y_test, epochs=1)\n",
    "model.save_model()"
   ]
  },
  {
   "cell_type": "code",
   "execution_count": 8,
   "metadata": {},
   "outputs": [],
   "source": [
    "# model.save_model()\n",
    "# dump(tokenizer, open('tokenizer.pkl', 'wb'))"
   ]
  }
 ],
 "metadata": {
  "kernelspec": {
   "display_name": "Python 3",
   "language": "python",
   "name": "python3"
  },
  "language_info": {
   "codemirror_mode": {
    "name": "ipython",
    "version": 3
   },
   "file_extension": ".py",
   "mimetype": "text/x-python",
   "name": "python",
   "nbconvert_exporter": "python",
   "pygments_lexer": "ipython3",
   "version": "3.6.9"
  }
 },
 "nbformat": 4,
 "nbformat_minor": 4
}
